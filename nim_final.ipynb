{
 "cells": [
  {
   "cell_type": "markdown",
   "metadata": {},
   "source": [
    "# Game of NIM"
   ]
  },
  {
   "cell_type": "markdown",
   "metadata": {},
   "source": [
    "(See Readme for detail and results.)"
   ]
  },
  {
   "cell_type": "markdown",
   "metadata": {},
   "source": [
    "Import some libraries"
   ]
  },
  {
   "cell_type": "code",
   "execution_count": 1,
   "metadata": {},
   "outputs": [],
   "source": [
    "import numpy as np\n",
    "import pickle\n",
    "import math\n",
    "import matplotlib.pyplot as plt"
   ]
  },
  {
   "cell_type": "markdown",
   "metadata": {},
   "source": [
    "# Class State\n",
    "\n",
    "## Methods:\n",
    "- initial board\n",
    "- getHash\n",
    "- available moves\n",
    "- update states\n",
    "- rewards and winner\n",
    "- plot win games\n",
    "- show board\n"
   ]
  },
  {
   "cell_type": "code",
   "execution_count": 2,
   "metadata": {},
   "outputs": [],
   "source": [
    "class State:\n",
    "    def __init__(self, number_rows = 5):\n",
    "        self.number_rows = number_rows\n",
    "        self.board = np.arange(1,self.number_rows+1)\n",
    "        ### for example, if number_rows = 5 as default, this is the initial board:\n",
    "        #   O\n",
    "        #   O O\n",
    "        #   O O O \n",
    "        #   O O O O\n",
    "        #   O O O O O\n",
    "        \n",
    "        # flag for END game\n",
    "        self.isEnd = False\n",
    "        # Hash key for board\n",
    "        self.boardHash = None\n",
    "        # init p1 plays first\n",
    "        self.playerSymbol = 1\n",
    "\n",
    "    # get unique hash of current board state\n",
    "    def getHash(self):\n",
    "        self.boardHash = str(self.board)\n",
    "        return self.boardHash\n",
    "\n",
    "    # winner-control\n",
    "    def winner(self):\n",
    "        if np.sum(self.board) == 0:\n",
    "            self.isEnd = True\n",
    "            return 1 if self.playerSymbol == 1 else -1\n",
    "        else:\n",
    "            # not end\n",
    "            self.isEnd = False\n",
    "            return None\n",
    "\n",
    "    # return the available moves given the current board\n",
    "    def availableMoves(self):\n",
    "        moves = []\n",
    "        for i in range(self.number_rows):\n",
    "            if self.board[i] != 0: # just if the row is not empty\n",
    "                for j in range(self.board[i]):\n",
    "                    # how many \"O\" we have in row i \n",
    "                    moves.append((i, j+1))  # need to be tuple\n",
    "        return moves\n",
    "    \n",
    "    # update the current board with the move\n",
    "    def updateState(self, move):\n",
    "        row = move[0]\n",
    "        num = move[1]\n",
    "        self.board[row] = self.board[row]-num\n",
    "        # resort the board to try to keep small the different states\n",
    "        self.board = np.sort(self.board)\n",
    "        \n",
    "\n",
    "    # gives reward (only when game ends)\n",
    "    def giveReward(self, p1, p2):\n",
    "        # select the player who win\n",
    "        result = self.winner()\n",
    "        # backpropagate reward\n",
    "        if result == 1:\n",
    "            p1.feedReward(1) # 1 for win, -1 for loss\n",
    "            p1.win_games.append(1)\n",
    "            p2.feedReward(-1)\n",
    "            p2.win_games.append(-1)\n",
    "        else:\n",
    "            p1.feedReward(-1)\n",
    "            p1.win_games.append(-1)\n",
    "            p2.feedReward(1)\n",
    "            p2.win_games.append(1)\n",
    "        \n",
    "    # board reset\n",
    "    def reset(self):\n",
    "        self.board = np.arange(1,self.number_rows+1)\n",
    "        \n",
    "        self.boardHash = None\n",
    "        self.isEnd = False\n",
    "        self.playerSymbol = 1\n",
    "        \n",
    "    # print the current board                \n",
    "    def showBoard(self):\n",
    "        skip = 0\n",
    "        print('--------------')\n",
    "        for i in range(self.number_rows):\n",
    "            if self.board[i] > 0:\n",
    "                out = ' '\n",
    "                out += str(i+1 - skip)\n",
    "                out += ' '\n",
    "                for j in range(self.board[i]):\n",
    "                    out += '# '\n",
    "                print(out)\n",
    "            else: # print just the rows not empty\n",
    "                skip += 1\n",
    "        print('-------------')\n",
    "        \n",
    "    ### after all the rounds, plot the mean rewards ###\n",
    "    def plot_rewards(self, p1, p2, num_rows, previous_rows = 0):\n",
    "        avg_rew_1 = []\n",
    "        avg_rew_2 = []\n",
    "        \n",
    "        n = min(len(p1.win_games), len(p2.win_games))\n",
    "        \n",
    "        for i in (range(n)):\n",
    "            avg_rew_1.append(np.mean(p1.win_games[max(0, i-1000):(i+1)]))\n",
    "            avg_rew_2.append(np.mean(p2.win_games[max(0, i-1000):(i+1)]))\n",
    "        \n",
    "        plt.plot(avg_rew_1, label = 'p1')\n",
    "        plt.plot(avg_rew_2, label = 'p2')\n",
    "        plt.axhline(y=1, xmin=0, xmax=n)#, label = \"1\")\n",
    "        plt.axhline(y=-1, xmin=0, xmax=n)#, label = \"-1\")\n",
    "        plt.legend()\n",
    "        # save the figure in output_avg_reward.png\n",
    "        string_fig = 'images/output_avg_reward_' + str(num_rows) + '_' + str(n) + '_games'\n",
    "        \n",
    "        if(previous_rows > 0):\n",
    "            string_fig = string_fig + '_from' + str(previous_rows)\n",
    "        \n",
    "        string_fig += '.png'\n",
    "        plt.savefig(string_fig)"
   ]
  },
  {
   "cell_type": "markdown",
   "metadata": {},
   "source": [
    "# Classes of Player (computer) and HumanPlayer\n",
    "\n",
    "## Methods:\n",
    "- choose action\n",
    "- add state\n",
    "- feed reward\n",
    "- save and load policy\n",
    "- load policy from lower cases"
   ]
  },
  {
   "cell_type": "code",
   "execution_count": 3,
   "metadata": {},
   "outputs": [],
   "source": [
    "# Computer Player\n",
    "class Player:\n",
    "    def __init__(self, name, learning_rate = 0.5, exp_rate = 0.99, decay_rate = 5, decay_gamma = 0.99, epsilon_min = 0.05):\n",
    "        self.name = name\n",
    "        self.states = []  # record all positions taken\n",
    "        # parameters for epsilon search\n",
    "        self.lr = learning_rate\n",
    "        self.exp_rate = exp_rate\n",
    "        self.decay_rate = decay_rate\n",
    "        self.decay_gamma = decay_gamma\n",
    "        self.epsilon_min = epsilon_min\n",
    "        # Q-Learning MAP\n",
    "        self.states_value = {}  # state -> value \n",
    "        # collect all the results\n",
    "        self.win_games = []\n",
    "\n",
    "    # get the Hash key for current board    \n",
    "    def getHash(self, board):\n",
    "        boardHash = str(board)\n",
    "        return boardHash\n",
    "\n",
    "    def chooseAction(self, moves, current_board, symbol, episode):\n",
    "\n",
    "        # if our random unif > epsilon\n",
    "        if np.random.uniform(0, 1) >= max(self.epsilon_min, (self.exp_rate * math.exp(-episode*self.decay_rate))):\n",
    "            \n",
    "            value_max = -999\n",
    "            \n",
    "            # select all the possible moves\n",
    "            for p in moves:\n",
    "                next_board = current_board.copy()\n",
    "                row = p[0]\n",
    "                num = p[1]\n",
    "                next_board[row] = next_board[row]-num\n",
    "\n",
    "                next_board = np.sort(next_board)\n",
    "\n",
    "                next_boardHash = self.getHash(next_board)\n",
    "                \n",
    "                # collect the value of next move\n",
    "                value = 0 if self.states_value.get(next_boardHash) is None else self.states_value.get(next_boardHash)\n",
    "                \n",
    "                # select the best move\n",
    "                if value >= value_max:\n",
    "                    value_max = value\n",
    "                    action = p\n",
    "        else:\n",
    "            # random initialization\n",
    "            idx = np.random.choice(len(moves))\n",
    "            action = moves[idx] # take random action\n",
    "                    \n",
    "        return action\n",
    "\n",
    "    # append a hash state\n",
    "    def addState(self, state):\n",
    "        self.states.append(state)\n",
    "\n",
    "    # at the end of game, backpropagate and update states value\n",
    "    def feedReward(self, reward):\n",
    "        initial_reward = reward\n",
    "        for st in reversed(self.states):\n",
    "            if self.states_value.get(st) is None:\n",
    "                self.states_value[st] = 0\n",
    "            # Bellmann Equation    \n",
    "            self.states_value[st] += self.lr * (initial_reward + self.decay_gamma * reward - self.states_value[st])\n",
    "            reward = self.states_value[st]\n",
    "            \n",
    "\n",
    "    # reset the states        \n",
    "    def reset(self):\n",
    "        self.states = []\n",
    "\n",
    "    # save the current policy (after the training part)    \n",
    "    def savePolicy(self, n, previous_case = 0):\n",
    "        str_policy = 'policy/policy_' + str(self.name) + '_' + str(n)\n",
    "        \n",
    "        if(previous_case > 0):\n",
    "            str_policy += '_from'\n",
    "            str_policy += str(previous_case)\n",
    "        \n",
    "        fw = open(str_policy, 'wb')\n",
    "        pickle.dump(self.states_value, fw)\n",
    "        fw.close()\n",
    "\n",
    "    # load the policy to play against human    \n",
    "    def loadPolicy(self, file):\n",
    "        fr = open(file, 'rb')\n",
    "        self.states_value = pickle.load(fr)\n",
    "        fr.close()\n",
    "        \n",
    "    # load the policy to play against human    \n",
    "    def loadPolicy_from_previous_cases(self, file, n_previous_cases, n_rows):\n",
    "        fr = open(file, 'rb')\n",
    "        tmp = pickle.load(fr)\n",
    "        fr.close()\n",
    "        zeros_add = n_rows - n_previous_cases\n",
    "        \n",
    "        tmp_copy = tmp.copy()\n",
    "        \n",
    "        zeros_string = ''\n",
    "        for i in range(zeros_add):\n",
    "            if i == 0:\n",
    "                zeros_string += '[0 '\n",
    "            else:\n",
    "                zeros_string += '0 '\n",
    "        \n",
    "        for k, v in tmp_copy.items():\n",
    "            new_key = zeros_string + k[1:]\n",
    "            tmp[new_key] = tmp.pop(k)\n",
    "        \n",
    "        self.states_value = tmp\n",
    "\n",
    "# Human Player\n",
    "class HumanPlayer:\n",
    "    def __init__(self, name):\n",
    "        self.name = name\n",
    "\n",
    "    # human choose action    \n",
    "    def chooseAction(self, moves, skip):\n",
    "        while True:\n",
    "            # collect action: row and num\n",
    "            row = int(input(\"Input your action row:\"))\n",
    "            num = int(input(\"Input your action num:\"))\n",
    "            # put it in the right position\n",
    "            action = (row - 1 + skip, num)\n",
    "            # if the action is available, else request another action\n",
    "            if action in moves:\n",
    "                return action\n",
    "\n",
    "    # append a hash state\n",
    "    def addState(self, state):\n",
    "        pass\n",
    "\n",
    "    # at the end of game, backpropagate and update states value\n",
    "    def feedReward(self, reward):\n",
    "        pass\n",
    "\n",
    "    def reset(self):\n",
    "        pass"
   ]
  },
  {
   "cell_type": "markdown",
   "metadata": {},
   "source": [
    "# Class NIM\n",
    "\n",
    "## Methods:\n",
    "- learn_from_previous_cases\n",
    "- learn\n",
    "- play_with_human"
   ]
  },
  {
   "cell_type": "code",
   "execution_count": 4,
   "metadata": {},
   "outputs": [],
   "source": [
    "class Nim:\n",
    "    def __init__(self, State, p1, p2):\n",
    "        self.State = State\n",
    "        self.p1 = p1\n",
    "        self.p2 = p2\n",
    "        \n",
    "    def learn_from_previous_cases(self, num_rows_previous_case, rounds):\n",
    "        n = num_rows_previous_case\n",
    "        str1 = 'policy/policy_p1_' + str(n)\n",
    "        str2 = 'policy/policy_p2_' + str(n)\n",
    "        \n",
    "        if(n == self.State.number_rows):\n",
    "            self.p1.loadPolicy(str1)\n",
    "            self.p2.loadPolicy(str2)\n",
    "        elif(n < self.State.number_rows):\n",
    "            self.p1.loadPolicy_from_previous_cases(str1, n, self.State.number_rows)\n",
    "            self.p2.loadPolicy_from_previous_cases(str2, n, self.State.number_rows)\n",
    "            self.learn(rounds, num_rows_previous_case)\n",
    "\n",
    "    # play a game between two computer    \n",
    "    def learn(self, rounds=10000, previous_case = 0):\n",
    "        \n",
    "        for i in range(rounds): # number of games    \n",
    "            \n",
    "            # loading\n",
    "            if i % (round(rounds/10)) == 0:\n",
    "                print(int(100*i/rounds), \"%\")\n",
    "                \n",
    "            # while the game has not ended    \n",
    "            while not self.State.isEnd:\n",
    "                \n",
    "                ### Player 1 turn ###\n",
    "                \n",
    "                # available moves for the current board\n",
    "                moves = self.State.availableMoves()\n",
    "                # choose the best action for the current board\n",
    "                p1_action = self.p1.chooseAction(moves, self.State.board, self.State.playerSymbol, i/rounds)\n",
    "                # take action and update board state\n",
    "                self.State.updateState(p1_action)\n",
    "                # take and add the Hash key for this state\n",
    "                board_hash = self.State.getHash()\n",
    "                self.p1.addState(board_hash)\n",
    "                \n",
    "                # check board status if it is end\n",
    "                win = self.State.winner()\n",
    "                if win is not None:\n",
    "                    # game ended, give the reward\n",
    "                    self.State.giveReward(self.p1, self.p2)\n",
    "                    self.p1.reset()\n",
    "                    self.p2.reset()\n",
    "                    # reset the game\n",
    "                    self.State.reset()\n",
    "                    # another round\n",
    "                    break\n",
    "\n",
    "                else:\n",
    "                    # switch to player 2\n",
    "                    self.State.playerSymbol = -1\n",
    "                    \n",
    "                    ### Player 2 turn ###\n",
    "                    \n",
    "                    # available moves for the current board\n",
    "                    moves = self.State.availableMoves()\n",
    "                    # choose the best action for the current board\n",
    "                    p2_action = self.p2.chooseAction(moves, self.State.board, self.State.playerSymbol, i/rounds)\n",
    "                    # take action and update board state\n",
    "                    self.State.updateState(p2_action)\n",
    "                    # take and add the Hash key for this state\n",
    "                    board_hash = self.State.getHash()\n",
    "                    self.p2.addState(board_hash)\n",
    "\n",
    "                    # check board status if it is end\n",
    "                    win = self.State.winner()\n",
    "                    if win is not None:\n",
    "                        # game ended, give the reward\n",
    "                        self.State.giveReward(self.p1,self.p2)\n",
    "                        self.p1.reset()\n",
    "                        self.p2.reset()\n",
    "                        # reset the game\n",
    "                        self.State.reset()\n",
    "                        # another round\n",
    "                        break\n",
    "                        \n",
    "                    # switch to player 1\n",
    "                    self.State.playerSymbol = 1\n",
    "\n",
    "        self.State.plot_rewards(self.p1, self.p2, self.State.number_rows, previous_case)\n",
    "\n",
    "\n",
    "    # play with human\n",
    "    def play_with_human(self):\n",
    "        print('---- Initial Board ----')\n",
    "        self.State.showBoard()\n",
    "        # while the game has not ended  \n",
    "        while not self.State.isEnd:\n",
    "            \n",
    "            ### Player 1 (computer) ###\n",
    "            print('---- Computer turn ------')\n",
    "            # available moves for the current board\n",
    "            moves = self.State.availableMoves()\n",
    "            # choose the best action for the current board\n",
    "            p1_action = self.p1.chooseAction(moves, self.State.board, self.State.playerSymbol, 1)\n",
    "            # take action and upate board state\n",
    "            self.State.updateState(p1_action)\n",
    "            self.State.showBoard()\n",
    "            \n",
    "            # check board status if it is end\n",
    "            win = self.State.winner()\n",
    "            if win is not None:\n",
    "                # print \"computer wins\"\n",
    "                print(self.p1.name, \"wins!\")\n",
    "                self.State.reset()\n",
    "                break\n",
    "\n",
    "            else:\n",
    "                \n",
    "                ### Player 2 (Human) ###\n",
    "                \n",
    "                print('---- Human turn ------')\n",
    "                # available moves for the current board\n",
    "                moves = self.State.availableMoves()\n",
    "                # number of rows empty\n",
    "                skip = sum(self.State.board == 0)\n",
    "                # ask the human player which action takes\n",
    "                p2_action = self.p2.chooseAction(moves, skip)\n",
    "                \n",
    "                # take action and upate board state\n",
    "                self.State.updateState(p2_action)\n",
    "                self.State.showBoard()\n",
    "                \n",
    "                # check board status if it is end\n",
    "                win = self.State.winner()\n",
    "                if win is not None:\n",
    "                    # print \"human wins\"\n",
    "                    print(self.p2.name, \"wins!\")\n",
    "                    self.State.reset()\n",
    "                    break"
   ]
  },
  {
   "cell_type": "markdown",
   "metadata": {},
   "source": [
    "# Training\n",
    "\n",
    "Training in a Q-Learning Agent vs Q-Learning Agent environment. Print the avg_reward in \"output_avg_reward.pdf\".\n",
    "\n",
    "(Not run if you just want to play, skip to the next cell!)"
   ]
  },
  {
   "cell_type": "code",
   "execution_count": null,
   "metadata": {},
   "outputs": [],
   "source": []
  },
  {
   "cell_type": "code",
   "execution_count": 5,
   "metadata": {},
   "outputs": [
    {
     "name": "stdout",
     "output_type": "stream",
     "text": [
      "training...\n",
      "0 %\n",
      "10 %\n",
      "20 %\n",
      "30 %\n",
      "40 %\n",
      "50 %\n",
      "60 %\n",
      "70 %\n",
      "80 %\n",
      "90 %\n"
     ]
    },
    {
     "data": {
      "image/png": "[encoded data removed]",
      "text/plain": [
       "<Figure size 432x288 with 1 Axes>"
      ]
     },
     "metadata": {
      "needs_background": "light"
     },
     "output_type": "display_data"
    }
   ],
   "source": [
    "n_games = 10000\n",
    "\n",
    "# 2 computer player\n",
    "p1 = Player(\"p1\", epsilon_min = 0.01) # default parameters\n",
    "p2 = Player(\"p2\", epsilon_min = 0.01)\n",
    "\n",
    "# number of rows\n",
    "n_rows = 6\n",
    "\n",
    "# build the board state\n",
    "st = State(n_rows)\n",
    "\n",
    "# build the game\n",
    "nim = Nim(st, p1, p2)\n",
    "\n",
    "# play n_games\n",
    "print(\"training...\")\n",
    "nim.learn(n_games)\n",
    "\n",
    "\n",
    "# save the policy\n",
    "p1.savePolicy(n_rows)\n",
    "p2.savePolicy(n_rows)\n",
    "\n",
    "win6 = p1.win_games"
   ]
  },
  {
   "cell_type": "markdown",
   "metadata": {},
   "source": [
    "# Let's play!\n",
    "\n",
    "Play against the computer with policy \"policy_p1_6\" (nrows = 6)"
   ]
  },
  {
   "cell_type": "code",
   "execution_count": 6,
   "metadata": {},
   "outputs": [
    {
     "name": "stdout",
     "output_type": "stream",
     "text": [
      "---- Initial Board ----\n",
      "--------------\n",
      " 1 # \n",
      " 2 # # \n",
      " 3 # # # \n",
      " 4 # # # # \n",
      " 5 # # # # # \n",
      " 6 # # # # # # \n",
      "-------------\n",
      "---- Computer turn ------\n",
      "--------------\n",
      " 1 # \n",
      " 2 # # \n",
      " 3 # # # \n",
      " 4 # # # \n",
      " 5 # # # # # \n",
      " 6 # # # # # # \n",
      "-------------\n",
      "---- Human turn ------\n"
     ]
    },
    {
     "name": "stdin",
     "output_type": "stream",
     "text": [
      "Input your action row: 6\n",
      "Input your action num: 1\n"
     ]
    },
    {
     "name": "stdout",
     "output_type": "stream",
     "text": [
      "--------------\n",
      " 1 # \n",
      " 2 # # \n",
      " 3 # # # \n",
      " 4 # # # \n",
      " 5 # # # # # \n",
      " 6 # # # # # \n",
      "-------------\n",
      "---- Computer turn ------\n",
      "--------------\n",
      " 1 # \n",
      " 2 # \n",
      " 3 # # # \n",
      " 4 # # # \n",
      " 5 # # # # # \n",
      " 6 # # # # # \n",
      "-------------\n",
      "---- Human turn ------\n"
     ]
    },
    {
     "name": "stdin",
     "output_type": "stream",
     "text": [
      "Input your action row: 3\n",
      "Input your action num: 2\n"
     ]
    },
    {
     "name": "stdout",
     "output_type": "stream",
     "text": [
      "--------------\n",
      " 1 # \n",
      " 2 # \n",
      " 3 # \n",
      " 4 # # # \n",
      " 5 # # # # # \n",
      " 6 # # # # # \n",
      "-------------\n",
      "---- Computer turn ------\n",
      "--------------\n",
      " 1 # \n",
      " 2 # \n",
      " 3 # \n",
      " 4 # \n",
      " 5 # # # # # \n",
      " 6 # # # # # \n",
      "-------------\n",
      "---- Human turn ------\n"
     ]
    },
    {
     "name": "stdin",
     "output_type": "stream",
     "text": [
      "Input your action row: 1\n",
      "Input your action num: 1\n"
     ]
    },
    {
     "name": "stdout",
     "output_type": "stream",
     "text": [
      "--------------\n",
      " 1 # \n",
      " 2 # \n",
      " 3 # \n",
      " 4 # # # # # \n",
      " 5 # # # # # \n",
      "-------------\n",
      "---- Computer turn ------\n",
      "--------------\n",
      " 1 # \n",
      " 2 # \n",
      " 3 # \n",
      " 4 # # # # \n",
      " 5 # # # # # \n",
      "-------------\n",
      "---- Human turn ------\n"
     ]
    },
    {
     "name": "stdin",
     "output_type": "stream",
     "text": [
      "Input your action row: 5\n",
      "Input your action num: 3\n"
     ]
    },
    {
     "name": "stdout",
     "output_type": "stream",
     "text": [
      "--------------\n",
      " 1 # \n",
      " 2 # \n",
      " 3 # \n",
      " 4 # # \n",
      " 5 # # # # \n",
      "-------------\n",
      "---- Computer turn ------\n",
      "--------------\n",
      " 1 # \n",
      " 2 # \n",
      " 3 # \n",
      " 4 # # \n",
      " 5 # # # \n",
      "-------------\n",
      "---- Human turn ------\n"
     ]
    },
    {
     "name": "stdin",
     "output_type": "stream",
     "text": [
      "Input your action row: 4\n",
      "Input your action num: 2\n"
     ]
    },
    {
     "name": "stdout",
     "output_type": "stream",
     "text": [
      "--------------\n",
      " 1 # \n",
      " 2 # \n",
      " 3 # \n",
      " 4 # # # \n",
      "-------------\n",
      "---- Computer turn ------\n",
      "--------------\n",
      " 1 # \n",
      " 2 # \n",
      " 3 # \n",
      " 4 # \n",
      "-------------\n",
      "---- Human turn ------\n"
     ]
    },
    {
     "name": "stdin",
     "output_type": "stream",
     "text": [
      "Input your action row: 1\n",
      "Input your action num: 1\n"
     ]
    },
    {
     "name": "stdout",
     "output_type": "stream",
     "text": [
      "--------------\n",
      " 1 # \n",
      " 2 # \n",
      " 3 # \n",
      "-------------\n",
      "---- Computer turn ------\n",
      "--------------\n",
      " 1 # \n",
      " 2 # \n",
      "-------------\n",
      "---- Human turn ------\n"
     ]
    },
    {
     "name": "stdin",
     "output_type": "stream",
     "text": [
      "Input your action row: 1\n",
      "Input your action num: 1\n"
     ]
    },
    {
     "name": "stdout",
     "output_type": "stream",
     "text": [
      "--------------\n",
      " 1 # \n",
      "-------------\n",
      "---- Computer turn ------\n",
      "--------------\n",
      "-------------\n",
      "computer wins!\n"
     ]
    }
   ],
   "source": [
    "n_rows = 6\n",
    "\n",
    "# computer player, exp_rate = 0 because now we don't \n",
    "# need to learn\n",
    "p3 = Player(\"computer\", exp_rate=0, epsilon_min = 0)\n",
    "# load a policy\n",
    "p3.loadPolicy(\"policy/policy_p1_6\")\n",
    "\n",
    "# human player\n",
    "p4 = HumanPlayer(\"human\")\n",
    "\n",
    "# play against computer!\n",
    "st_2 = State(n_rows)\n",
    "\n",
    "nim_with_human = Nim(st_2,p3,p4)\n",
    "nim_with_human.play_with_human()"
   ]
  },
  {
   "cell_type": "markdown",
   "metadata": {},
   "source": [
    "# Learn from smaller games\n",
    "\n",
    "We can use policy from learning-rounds of small number_rows (i.e. 3) for learning in bigger number_rows cases."
   ]
  },
  {
   "cell_type": "code",
   "execution_count": 7,
   "metadata": {},
   "outputs": [
    {
     "name": "stdout",
     "output_type": "stream",
     "text": [
      "training...\n",
      "0 %\n",
      "10 %\n",
      "20 %\n",
      "30 %\n",
      "40 %\n",
      "50 %\n",
      "60 %\n",
      "70 %\n",
      "80 %\n",
      "90 %\n"
     ]
    },
    {
     "data": {
      "image/png": "[encoded data removed]",
      "text/plain": [
       "<Figure size 432x288 with 1 Axes>"
      ]
     },
     "metadata": {
      "needs_background": "light"
     },
     "output_type": "display_data"
    }
   ],
   "source": [
    "n_rows = 6\n",
    "previous_rows = 5\n",
    "\n",
    "# try for example with half of the number n_games\n",
    "n_games = 10000\n",
    "\n",
    "# 2 computer player\n",
    "p1 = Player(\"p1\", epsilon_min = 0.01)\n",
    "p2 = Player(\"p2\", epsilon_min = 0.01)\n",
    "\n",
    "# build the game\n",
    "st = State(n_rows)\n",
    "\n",
    "nim_from_past = Nim(st,p1,p2)\n",
    "\n",
    "# play n_games\n",
    "print(\"training...\")\n",
    "nim_from_past.learn_from_previous_cases(previous_rows,n_games)\n",
    "\n",
    "p1.savePolicy(n_rows,previous_rows)\n",
    "p2.savePolicy(n_rows,previous_rows)\n",
    "win6_from5 = p1.win_games"
   ]
  },
  {
   "cell_type": "code",
   "execution_count": null,
   "metadata": {},
   "outputs": [],
   "source": []
  },
  {
   "cell_type": "code",
   "execution_count": null,
   "metadata": {},
   "outputs": [],
   "source": []
  },
  {
   "cell_type": "code",
   "execution_count": 8,
   "metadata": {},
   "outputs": [],
   "source": [
    "for i in range(10000):\n",
    "    if(win6[i] == -1):\n",
    "        win6[i] = 0\n",
    "    if(win6_from5[i] == -1):\n",
    "        win6_from5[i] = 0"
   ]
  },
  {
   "cell_type": "code",
   "execution_count": null,
   "metadata": {},
   "outputs": [],
   "source": []
  },
  {
   "cell_type": "code",
   "execution_count": 9,
   "metadata": {},
   "outputs": [
    {
     "name": "stdout",
     "output_type": "stream",
     "text": [
      "0\n",
      "1000\n",
      "2000\n",
      "3000\n",
      "4000\n",
      "5000\n",
      "6000\n",
      "7000\n",
      "8000\n",
      "9000\n"
     ]
    },
    {
     "data": {
      "text/plain": [
       "<matplotlib.legend.Legend at 0x7fd264e928e0>"
      ]
     },
     "execution_count": 9,
     "metadata": {},
     "output_type": "execute_result"
    },
    {
     "data": {
      "image/png": "[encoded data removed]",
      "text/plain": [
       "<Figure size 432x288 with 1 Axes>"
      ]
     },
     "metadata": {
      "needs_background": "light"
     },
     "output_type": "display_data"
    }
   ],
   "source": [
    "avg_rew_1 = []\n",
    "avg_rew_2 = []\n",
    "\n",
    "n = min(len(win6), len(win6_from5))\n",
    "\n",
    "for i in (range(n)):\n",
    "    if i%1000==0:\n",
    "        print(i)\n",
    "    avg_rew_1.append(np.mean(win6[max(0, i-2000):(i+1)]))\n",
    "    avg_rew_2.append(np.mean(win6_from5[max(0, i-2000):(i+1)]))\n",
    "\n",
    "plt.plot(avg_rew_1, label = '6')\n",
    "plt.plot(avg_rew_2, label = '6 from 5')\n",
    "plt.legend()"
   ]
  },
  {
   "cell_type": "code",
   "execution_count": 10,
   "metadata": {},
   "outputs": [
    {
     "data": {
      "image/png": "[encoded data removed]",
      "text/plain": [
       "<Figure size 432x288 with 1 Axes>"
      ]
     },
     "metadata": {
      "needs_background": "light"
     },
     "output_type": "display_data"
    }
   ],
   "source": [
    "plt.plot(range(3000,10000), avg_rew_1[3000:], label = '6')\n",
    "plt.plot(range(3000,10000), avg_rew_2[3000:], label = '6 learn from 5')\n",
    "plt.legend()\n",
    "string_fig = 'images/learn5_vs_6_quintaprova.png'\n",
    "plt.savefig(string_fig)"
   ]
  },
  {
   "cell_type": "code",
   "execution_count": null,
   "metadata": {},
   "outputs": [],
   "source": []
  }
 ],
 "metadata": {
  "kernelspec": {
   "display_name": "Python 3",
   "language": "python",
   "name": "python3"
  },
  "language_info": {
   "codemirror_mode": {
    "name": "ipython",
    "version": 3
   },
   "file_extension": ".py",
   "mimetype": "text/x-python",
   "name": "python",
   "nbconvert_exporter": "python",
   "pygments_lexer": "ipython3",
   "version": "3.8.1"
  }
 },
 "nbformat": 4,
 "nbformat_minor": 4
}
